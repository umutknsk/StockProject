{
 "cells": [
  {
   "cell_type": "markdown",
   "metadata": {},
   "source": [
    "# Importing necessary libraries"
   ]
  },
  {
   "cell_type": "code",
   "execution_count": 1,
   "metadata": {},
   "outputs": [],
   "source": [
    "import yfinance as yf\n",
    "import psycopg2\n",
    "from psycopg2 import sql\n",
    "import datetime\n",
    "import random\n",
    "import pandas as pd\n",
    "import holidays\n",
    "from datetime import timedelta"
   ]
  },
  {
   "cell_type": "markdown",
   "metadata": {},
   "source": [
    "# Connect to PostgreSQL database\n"
   ]
  },
  {
   "cell_type": "code",
   "execution_count": 2,
   "metadata": {},
   "outputs": [],
   "source": [
    "def connect_to_db():\n",
    "    try:\n",
    "        conn = psycopg2.connect(\n",
    "            host=\"localhost\",  \n",
    "            database=\"stock_data\",  \n",
    "            user=\"umutknsk\",  \n",
    "            password=\"umut1234\"  \n",
    "        )\n",
    "        cur = conn.cursor()\n",
    "        return conn, cur\n",
    "    except Exception as e:\n",
    "        print(f\"Error connecting to database: {e}\")"
   ]
  },
  {
   "cell_type": "markdown",
   "metadata": {},
   "source": [
    "# SQL query to insert data into the database"
   ]
  },
  {
   "cell_type": "code",
   "execution_count": 3,
   "metadata": {},
   "outputs": [],
   "source": [
    "def get_insert_query():\n",
    "    return sql.SQL(\"\"\"\n",
    "        INSERT INTO stock_table (symbol, name, open, high, low, close, volume, dividends, stock_splits, timestamp)\n",
    "        VALUES (%s, %s, %s, %s, %s, %s, %s, %s, %s, %s)\n",
    "        ON CONFLICT (symbol, timestamp) DO NOTHING;\n",
    "    \"\"\")"
   ]
  },
  {
   "cell_type": "markdown",
   "metadata": {},
   "source": [
    "# Function to process each row of stock data"
   ]
  },
  {
   "cell_type": "code",
   "execution_count": 4,
   "metadata": {},
   "outputs": [],
   "source": [
    "def process_row(row, symbol):\n",
    "    name = row.get('shortName', 'Unknown Name')  \n",
    "    open_price = row['Open'] if pd.notna(row['Open']) else None  \n",
    "    high = row['High'] if pd.notna(row['High']) else None  \n",
    "    low = row['Low'] if pd.notna(row['Low']) else None  \n",
    "    close = row['Close'] if pd.notna(row['Close']) else None \n",
    "    volume = row['Volume'] if pd.notna(row['Volume']) else None  \n",
    "    dividends = row['Dividends'] if pd.notna(row['Dividends']) else None \n",
    "    stock_splits = row['Stock Splits'] if pd.notna(row['Stock Splits']) else None  \n",
    "    timestamp = row.name  \n",
    "    return (symbol, name, open_price, high, low, close, volume, dividends, stock_splits, timestamp)"
   ]
  },
  {
   "cell_type": "markdown",
   "metadata": {},
   "source": [
    "# Function to fetch and process stock data"
   ]
  },
  {
   "cell_type": "code",
   "execution_count": 5,
   "metadata": {},
   "outputs": [],
   "source": [
    "def fetch_and_process_stock_data(symbol, conn, cur, insert_query):\n",
    "    stock = yf.Ticker(symbol)\n",
    "    stock_info = stock.history(period='max')\n",
    "\n",
    "    if stock_info.empty:\n",
    "        print(f\"No stock data available for {symbol}.\")  \n",
    "        return None, None, None, None\n",
    "\n",
    "    stock_info.index = stock_info.index.tz_localize(None)  \n",
    "\n",
    "    first_date = stock_info.index.min()  \n",
    "    last_date = stock_info.index.max()  \n",
    "    start_date = first_date.replace(tzinfo=None)  \n",
    "\n",
    "    print(f\"First date is {first_date} for {symbol}\")\n",
    "\n",
    "    delta_days = (last_date - start_date).days  \n",
    "    if delta_days <= 0:\n",
    "        return None, None, None, None\n",
    "\n",
    "    us_holidays = holidays.US(years=range(first_date.year, last_date.year + 1))  \n",
    "\n",
    "    return stock_info, start_date, delta_days, us_holidays\n"
   ]
  },
  {
   "cell_type": "markdown",
   "metadata": {},
   "source": [
    "# Function to handle partially removed dates and update stock data"
   ]
  },
  {
   "cell_type": "code",
   "execution_count": null,
   "metadata": {},
   "outputs": [],
   "source": [
    "def handle_partially_removed_dates(symbol, stock_info, start_date, delta_days, us_holidays, random_dates_dict):\n",
    "    random.seed(42)\n",
    "    \n",
    "    fully_removed_dates = set()  \n",
    "    while len(fully_removed_dates) < min(10, delta_days):  \n",
    "        random_days = random.randint(0, delta_days)\n",
    "        random_date = start_date + timedelta(days=random_days)\n",
    "\n",
    "        if random_date.weekday() < 5 and random_date.date() not in us_holidays:\n",
    "            fully_removed_dates.add(random_date.date())\n",
    "\n",
    "    print(f\"Selected dates (excluded) for {symbol}: {list(fully_removed_dates)}\")\n",
    "\n",
    "    partially_removed_dates = set()  \n",
    "    while len(partially_removed_dates) < min(10, delta_days):  \n",
    "        random_days = random.randint(0, delta_days)\n",
    "        random_date = start_date + timedelta(days=random_days)\n",
    "\n",
    "        if (random_date.weekday() < 5 and random_date.date() not in us_holidays and \n",
    "            random_date.date() not in fully_removed_dates):\n",
    "            partially_removed_dates.add(random_date.date())\n",
    "    \n",
    "    print(f\"Partially removed dates for {symbol}: {list(partially_removed_dates)}\")\n",
    "\n",
    "    random_dates_dict[symbol] = list(fully_removed_dates)\n",
    "\n",
    "    partially_removed_dates = pd.to_datetime(list(partially_removed_dates))  \n",
    "    \n",
    "    for date in partially_removed_dates:\n",
    "        if date in stock_info.index:\n",
    "            num_columns_to_nan = random.randint(1, 4)  \n",
    "            columns_to_nan = random.sample([\"Open\", \"High\", \"Low\", \"Close\", \"Volume\"], num_columns_to_nan)\n",
    "            stock_info.loc[stock_info.index == date, columns_to_nan] = None\n",
    "            \n",
    "    print(f\"Updated stock data for {symbol}:\\n\", stock_info.loc[stock_info.index.isin(partially_removed_dates)])\n",
    "    return stock_info"
   ]
  },
  {
   "cell_type": "markdown",
   "metadata": {},
   "source": [
    "# Function to insert data into the database"
   ]
  },
  {
   "cell_type": "code",
   "execution_count": 7,
   "metadata": {},
   "outputs": [],
   "source": [
    "def insert_data_into_db(symbol, stock_info_filtered, cur, insert_query, random_dates_dict):\n",
    "    stock_info_filtered['Date'] = stock_info_filtered.index.date\n",
    "    stock_info_filtered = stock_info_filtered[~stock_info_filtered['Date'].isin(random_dates_dict[symbol])]\n",
    "\n",
    "    if stock_info_filtered.empty:\n",
    "        print(f\"No valid data to insert for {symbol}.\")\n",
    "        return\n",
    "\n",
    "    rows_to_insert = stock_info_filtered.apply(lambda row: process_row(row, symbol), axis=1).tolist()\n",
    "    cur.executemany(insert_query, rows_to_insert)"
   ]
  },
  {
   "cell_type": "markdown",
   "metadata": {},
   "source": [
    "# Main Process"
   ]
  },
  {
   "cell_type": "code",
   "execution_count": 8,
   "metadata": {},
   "outputs": [
    {
     "name": "stdout",
     "output_type": "stream",
     "text": [
      "First date is 1980-12-12 00:00:00 for AAPL\n",
      "Selected dates (excluded) for AAPL: [datetime.date(1987, 3, 17), datetime.date(1982, 1, 25), datetime.date(2014, 3, 18), datetime.date(1993, 4, 14), datetime.date(1990, 12, 17), datetime.date(1985, 12, 10), datetime.date(2009, 8, 18), datetime.date(2014, 3, 4), datetime.date(2011, 4, 21), datetime.date(1985, 7, 18)]\n",
      "Partially removed dates for AAPL: [datetime.date(1999, 11, 15), datetime.date(1982, 4, 14), datetime.date(1984, 11, 5), datetime.date(1991, 5, 20), datetime.date(2007, 12, 14), datetime.date(2003, 8, 13), datetime.date(2007, 6, 8), datetime.date(1990, 10, 3), datetime.date(1982, 2, 19), datetime.date(2006, 2, 14)]\n",
      "Updated stock data for AAPL:\n",
      "                 Open      High       Low     Close       Volume  Dividends  \\\n",
      "Date                                                                         \n",
      "1982-02-19  0.064816  0.064816       NaN       NaN          NaN   0.000000   \n",
      "1982-04-14  0.055373  0.055802       NaN       NaN  113590400.0   0.000000   \n",
      "1984-11-05  0.085419       NaN  0.084990  0.084990  105369600.0   0.000000   \n",
      "1990-10-03       NaN       NaN  0.189735       NaN          NaN   0.000000   \n",
      "1991-05-20       NaN  0.339617       NaN       NaN          NaN   0.001071   \n",
      "1999-11-15  0.674284  0.698735  0.665821       NaN          NaN   0.000000   \n",
      "2003-08-13  0.298830  0.306052       NaN  0.303644  284099200.0   0.000000   \n",
      "2006-02-14       NaN  2.049374  1.956084  2.035531          NaN   0.000000   \n",
      "2007-06-08       NaN  3.786679       NaN  3.746353          NaN   0.000000   \n",
      "2007-12-14       NaN       NaN  5.703941  5.729520          NaN   0.000000   \n",
      "\n",
      "            Stock Splits  \n",
      "Date                      \n",
      "1982-02-19           0.0  \n",
      "1982-04-14           0.0  \n",
      "1984-11-05           0.0  \n",
      "1990-10-03           0.0  \n",
      "1991-05-20           0.0  \n",
      "1999-11-15           0.0  \n",
      "2003-08-13           0.0  \n",
      "2006-02-14           0.0  \n",
      "2007-06-08           0.0  \n",
      "2007-12-14           0.0  \n",
      "First date is 1999-01-22 00:00:00 for NVDA\n",
      "Selected dates (excluded) for NVDA: [datetime.date(2003, 8, 28), datetime.date(2004, 1, 20), datetime.date(2000, 5, 24), datetime.date(2000, 3, 6), datetime.date(2009, 1, 26), datetime.date(2008, 11, 12), datetime.date(2023, 7, 10), datetime.date(2005, 4, 26), datetime.date(2002, 12, 16), datetime.date(2011, 5, 25)]\n",
      "Partially removed dates for NVDA: [datetime.date(2024, 3, 26), datetime.date(2021, 9, 22), datetime.date(2009, 6, 29), datetime.date(2017, 11, 16), datetime.date(2008, 12, 11), datetime.date(2006, 1, 12), datetime.date(2000, 3, 31), datetime.date(2011, 7, 15), datetime.date(2006, 3, 21), datetime.date(2023, 7, 3)]\n",
      "Updated stock data for NVDA:\n",
      "                  Open       High        Low      Close        Volume  \\\n",
      "Date                                                                   \n",
      "2000-03-31        NaN   0.167878   0.149968   0.161400           NaN   \n",
      "2006-01-12   0.332413   0.337532        NaN        NaN           NaN   \n",
      "2006-03-21        NaN   0.395074   0.377958        NaN  1.235472e+09   \n",
      "2008-12-11        NaN        NaN   0.185463        NaN           NaN   \n",
      "2009-06-29   0.265930   0.270057        NaN   0.265242  5.100560e+08   \n",
      "2011-07-15        NaN   0.326682        NaN   0.323243  8.277360e+08   \n",
      "2017-11-16        NaN   5.292954        NaN   5.228954           NaN   \n",
      "2021-09-22  21.325949  21.918835  21.156267        NaN  2.687260e+08   \n",
      "2023-07-03        NaN  42.874594        NaN        NaN  1.982090e+08   \n",
      "2024-03-26        NaN  96.343344        NaN  92.530594  5.136480e+08   \n",
      "\n",
      "            Dividends  Stock Splits  \n",
      "Date                                 \n",
      "2000-03-31        0.0           0.0  \n",
      "2006-01-12        0.0           0.0  \n",
      "2006-03-21        0.0           0.0  \n",
      "2008-12-11        0.0           0.0  \n",
      "2009-06-29        0.0           0.0  \n",
      "2011-07-15        0.0           0.0  \n",
      "2017-11-16        0.0           0.0  \n",
      "2021-09-22        0.0           0.0  \n",
      "2023-07-03        0.0           0.0  \n",
      "2024-03-26        0.0           0.0  \n",
      "First date is 2022-04-28 00:00:00 for SOUN\n",
      "Selected dates (excluded) for SOUN: [datetime.date(2025, 2, 25), datetime.date(2023, 2, 7), datetime.date(2022, 6, 21), datetime.date(2022, 11, 23), datetime.date(2022, 6, 28), datetime.date(2023, 9, 11), datetime.date(2023, 6, 9), datetime.date(2023, 7, 19), datetime.date(2023, 8, 17), datetime.date(2022, 12, 12)]\n",
      "Partially removed dates for SOUN: [datetime.date(2024, 9, 3), datetime.date(2022, 7, 25), datetime.date(2024, 6, 14), datetime.date(2023, 7, 12), datetime.date(2024, 4, 1), datetime.date(2024, 5, 2), datetime.date(2022, 5, 11), datetime.date(2024, 9, 9), datetime.date(2022, 11, 3), datetime.date(2023, 3, 20)]\n",
      "Updated stock data for SOUN:\n",
      "             Open  High   Low  Close      Volume  Dividends  Stock Splits\n",
      "Date                                                                    \n",
      "2022-05-11  8.36   NaN   NaN   7.19         NaN        0.0           0.0\n",
      "2022-07-25  3.73  4.16   NaN    NaN         NaN        0.0           0.0\n",
      "2022-11-03  2.46   NaN  2.11    NaN    260700.0        0.0           0.0\n",
      "2023-03-20  1.76   NaN   NaN    NaN         NaN        0.0           0.0\n",
      "2023-07-12   NaN  3.75   NaN   3.60  13793900.0        0.0           0.0\n",
      "2024-04-01   NaN  5.94  5.55    NaN  23190000.0        0.0           0.0\n",
      "2024-05-02   NaN  4.60   NaN    NaN  14564100.0        0.0           0.0\n",
      "2024-06-14   NaN  4.54  4.40   4.43         NaN        0.0           0.0\n",
      "2024-09-03   NaN   NaN  4.52    NaN         NaN        0.0           0.0\n",
      "2024-09-09   NaN   NaN   NaN   4.62  11937700.0        0.0           0.0\n",
      "First date is 2007-03-29 00:00:00 for SMCI\n",
      "Selected dates (excluded) for SMCI: [datetime.date(2012, 3, 30), datetime.date(2023, 11, 7), datetime.date(2007, 10, 19), datetime.date(2023, 10, 4), datetime.date(2009, 7, 15), datetime.date(2012, 9, 24), datetime.date(2013, 5, 29), datetime.date(2019, 6, 21), datetime.date(2022, 6, 1), datetime.date(2023, 11, 14)]\n",
      "Partially removed dates for SMCI: [datetime.date(2016, 9, 13), datetime.date(2009, 3, 10), datetime.date(2007, 12, 14), datetime.date(2007, 11, 28), datetime.date(2012, 6, 15), datetime.date(2019, 10, 29), datetime.date(2020, 6, 25), datetime.date(2012, 2, 22), datetime.date(2009, 5, 4), datetime.date(2007, 11, 1)]\n",
      "Updated stock data for SMCI:\n",
      "              Open   High    Low  Close     Volume  Dividends  Stock Splits\n",
      "Date                                                                      \n",
      "2007-11-01    NaN  1.005  0.931  0.932        NaN        0.0           0.0\n",
      "2007-11-28    NaN  0.899    NaN    NaN        NaN        0.0           0.0\n",
      "2007-12-14  0.846    NaN  0.830  0.840   514000.0        0.0           0.0\n",
      "2009-03-10  0.491  0.530    NaN    NaN  1446000.0        0.0           0.0\n",
      "2009-05-04  0.559  0.563    NaN    NaN        NaN        0.0           0.0\n",
      "2012-02-22    NaN    NaN  1.709    NaN        NaN        0.0           0.0\n",
      "2012-06-15    NaN    NaN  1.485  1.493        NaN        0.0           0.0\n",
      "2016-09-13  2.133  2.153  2.121    NaN        NaN        0.0           0.0\n",
      "2019-10-29  2.100  2.144    NaN  2.101  1033000.0        0.0           0.0\n",
      "2020-06-25    NaN  3.176    NaN  3.103        NaN        0.0           0.0\n",
      "All data inserted successfully!\n"
     ]
    }
   ],
   "source": [
    "conn, cur = connect_to_db()\n",
    "insert_query = get_insert_query()\n",
    "\n",
    "symbols = ['AAPL', 'NVDA', 'SOUN', 'SMCI']\n",
    "random_dates_dict = {symbol: [] for symbol in symbols}  # Initialize the dictionary for random dates\n",
    "\n",
    "for symbol in symbols:\n",
    "    stock_info, start_date, delta_days, us_holidays = fetch_and_process_stock_data(symbol, conn, cur, insert_query)\n",
    "    \n",
    "    if stock_info is None:\n",
    "        continue\n",
    "    \n",
    "    stock_info = handle_partially_removed_dates(symbol, stock_info, start_date, delta_days, us_holidays, random_dates_dict)\n",
    "    insert_data_into_db(symbol, stock_info, cur, insert_query, random_dates_dict)\n",
    "\n",
    "# Commit the transaction after inserting all data\n",
    "conn.commit()\n",
    "\n",
    "# Close the cursor and connection\n",
    "cur.close()\n",
    "conn.close()\n",
    "\n",
    "print(\"All data inserted successfully!\")"
   ]
  },
  {
   "cell_type": "code",
   "execution_count": null,
   "metadata": {},
   "outputs": [],
   "source": []
  }
 ],
 "metadata": {
  "kernelspec": {
   "display_name": "stock-env",
   "language": "python",
   "name": "python3"
  },
  "language_info": {
   "codemirror_mode": {
    "name": "ipython",
    "version": 3
   },
   "file_extension": ".py",
   "mimetype": "text/x-python",
   "name": "python",
   "nbconvert_exporter": "python",
   "pygments_lexer": "ipython3",
   "version": "3.12.3"
  }
 },
 "nbformat": 4,
 "nbformat_minor": 2
}
