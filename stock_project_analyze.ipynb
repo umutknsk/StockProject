{
 "cells": [
  {
   "cell_type": "markdown",
   "metadata": {},
   "source": [
    "# Importing necessary libraries"
   ]
  },
  {
   "cell_type": "code",
   "execution_count": 1,
   "metadata": {},
   "outputs": [],
   "source": [
    "import yfinance as yf\n",
    "import psycopg2\n",
    "import holidays\n",
    "import pandas as pd\n",
    "from datetime import timedelta"
   ]
  },
  {
   "cell_type": "markdown",
   "metadata": {},
   "source": [
    "# Connect to PostgreSQL database"
   ]
  },
  {
   "cell_type": "code",
   "execution_count": 2,
   "metadata": {},
   "outputs": [],
   "source": [
    "def connect_to_db():\n",
    "    try:\n",
    "        conn = psycopg2.connect(\n",
    "            host=\"localhost\",  \n",
    "            database=\"stock_data\",  \n",
    "            user=\"umutknsk\",  \n",
    "            password=\"umut1234\"  \n",
    "        )\n",
    "        cur = conn.cursor()\n",
    "        return conn, cur\n",
    "    except Exception as e:\n",
    "        print(f\"Error connecting to database: {e}\")"
   ]
  },
  {
   "cell_type": "markdown",
   "metadata": {},
   "source": [
    "# Function to analyze missing dates and print results"
   ]
  },
  {
   "cell_type": "code",
   "execution_count": null,
   "metadata": {},
   "outputs": [],
   "source": [
    "def analyze_missing_dates(symbol, first_date, last_date, conn, cur):  \n",
    "    us_holidays = holidays.US(years=range(first_date.year, last_date.year + 1))\n",
    "\n",
    "    all_trading_days = [i.date() for i in pd.date_range(start = first_date, end = last_date) \n",
    "                        if i.weekday() < 5 and i.date() not in us_holidays]\n",
    "\n",
    "    cur.execute(\"\"\"SELECT DISTINCT timestamp FROM stock_table WHERE symbol = %s;\"\"\", (symbol,))\n",
    "    existing_dates = {row[0].date() for row in cur.fetchall()}\n",
    "\n",
    "    missing_dates = sorted(set(all_trading_days) - existing_dates)\n",
    "\n",
    "    missing_dates = [date for date in missing_dates if date not in us_holidays]\n",
    "\n",
    "    print(f\"For {symbol}, missing dates are: {missing_dates}\")\n",
    "    print(\"\\n\")"
   ]
  },
  {
   "cell_type": "markdown",
   "metadata": {},
   "source": [
    "# Main Process"
   ]
  },
  {
   "cell_type": "code",
   "execution_count": 4,
   "metadata": {},
   "outputs": [
    {
     "name": "stdout",
     "output_type": "stream",
     "text": [
      "For AAPL, missing dates are: [datetime.date(1981, 4, 17), datetime.date(1982, 1, 25), datetime.date(1982, 4, 9), datetime.date(1983, 4, 1), datetime.date(1984, 4, 20), datetime.date(1985, 4, 5), datetime.date(1985, 7, 18), datetime.date(1985, 9, 27), datetime.date(1985, 12, 10), datetime.date(1986, 3, 28), datetime.date(1987, 3, 17), datetime.date(1987, 4, 17), datetime.date(1988, 4, 1), datetime.date(1989, 3, 24), datetime.date(1990, 4, 13), datetime.date(1990, 12, 17), datetime.date(1991, 3, 29), datetime.date(1992, 4, 17), datetime.date(1993, 4, 9), datetime.date(1993, 4, 14), datetime.date(1994, 4, 1), datetime.date(1994, 4, 27), datetime.date(1995, 4, 14), datetime.date(1996, 4, 5), datetime.date(1997, 3, 28), datetime.date(1998, 4, 10), datetime.date(1999, 4, 2), datetime.date(2000, 4, 21), datetime.date(2001, 4, 13), datetime.date(2001, 9, 11), datetime.date(2001, 9, 12), datetime.date(2001, 9, 13), datetime.date(2001, 9, 14), datetime.date(2002, 3, 29), datetime.date(2003, 4, 18), datetime.date(2004, 4, 9), datetime.date(2004, 6, 11), datetime.date(2005, 3, 25), datetime.date(2006, 4, 14), datetime.date(2007, 1, 2), datetime.date(2007, 4, 6), datetime.date(2008, 3, 21), datetime.date(2009, 4, 10), datetime.date(2009, 8, 18), datetime.date(2010, 4, 2), datetime.date(2011, 4, 21), datetime.date(2011, 4, 22), datetime.date(2012, 4, 6), datetime.date(2012, 10, 29), datetime.date(2012, 10, 30), datetime.date(2013, 3, 29), datetime.date(2014, 3, 4), datetime.date(2014, 3, 18), datetime.date(2014, 4, 18), datetime.date(2015, 4, 3), datetime.date(2016, 3, 25), datetime.date(2017, 4, 14), datetime.date(2018, 3, 30), datetime.date(2018, 12, 5), datetime.date(2019, 4, 19), datetime.date(2020, 4, 10), datetime.date(2021, 4, 2), datetime.date(2022, 4, 15), datetime.date(2023, 4, 7), datetime.date(2024, 3, 29), datetime.date(2025, 1, 9)]\n",
      "\n",
      "\n",
      "For NVDA, missing dates are: [datetime.date(1999, 4, 2), datetime.date(2000, 3, 6), datetime.date(2000, 4, 21), datetime.date(2000, 5, 24), datetime.date(2001, 4, 13), datetime.date(2001, 9, 11), datetime.date(2001, 9, 12), datetime.date(2001, 9, 13), datetime.date(2001, 9, 14), datetime.date(2002, 3, 29), datetime.date(2002, 12, 16), datetime.date(2003, 4, 18), datetime.date(2003, 8, 28), datetime.date(2004, 1, 20), datetime.date(2004, 4, 9), datetime.date(2004, 6, 11), datetime.date(2005, 3, 25), datetime.date(2005, 4, 26), datetime.date(2006, 4, 14), datetime.date(2007, 1, 2), datetime.date(2007, 4, 6), datetime.date(2008, 3, 21), datetime.date(2008, 11, 12), datetime.date(2009, 1, 26), datetime.date(2009, 4, 10), datetime.date(2010, 4, 2), datetime.date(2011, 4, 22), datetime.date(2011, 5, 25), datetime.date(2012, 4, 6), datetime.date(2012, 10, 29), datetime.date(2012, 10, 30), datetime.date(2013, 3, 29), datetime.date(2014, 4, 18), datetime.date(2015, 4, 3), datetime.date(2016, 3, 25), datetime.date(2017, 4, 14), datetime.date(2018, 3, 30), datetime.date(2018, 12, 5), datetime.date(2019, 4, 19), datetime.date(2020, 4, 10), datetime.date(2021, 4, 2), datetime.date(2022, 4, 15), datetime.date(2023, 4, 7), datetime.date(2023, 7, 10), datetime.date(2024, 3, 29), datetime.date(2025, 1, 9)]\n",
      "\n",
      "\n",
      "For SOUN, missing dates are: [datetime.date(2022, 6, 21), datetime.date(2022, 6, 28), datetime.date(2022, 11, 23), datetime.date(2022, 12, 12), datetime.date(2023, 2, 7), datetime.date(2023, 4, 7), datetime.date(2023, 6, 9), datetime.date(2023, 7, 19), datetime.date(2023, 8, 17), datetime.date(2023, 9, 11), datetime.date(2024, 3, 29), datetime.date(2025, 1, 9), datetime.date(2025, 2, 25)]\n",
      "\n",
      "\n",
      "For SMCI, missing dates are: [datetime.date(2007, 4, 6), datetime.date(2007, 10, 19), datetime.date(2008, 3, 21), datetime.date(2009, 4, 10), datetime.date(2009, 7, 15), datetime.date(2010, 4, 2), datetime.date(2011, 4, 22), datetime.date(2012, 3, 30), datetime.date(2012, 4, 6), datetime.date(2012, 9, 24), datetime.date(2012, 10, 29), datetime.date(2012, 10, 30), datetime.date(2013, 3, 29), datetime.date(2013, 5, 29), datetime.date(2014, 4, 18), datetime.date(2015, 4, 3), datetime.date(2016, 3, 25), datetime.date(2017, 4, 14), datetime.date(2018, 3, 30), datetime.date(2018, 12, 5), datetime.date(2019, 4, 19), datetime.date(2019, 6, 21), datetime.date(2020, 4, 10), datetime.date(2021, 4, 2), datetime.date(2022, 4, 15), datetime.date(2022, 6, 1), datetime.date(2023, 4, 7), datetime.date(2023, 10, 4), datetime.date(2023, 11, 7), datetime.date(2023, 11, 14), datetime.date(2024, 3, 29), datetime.date(2025, 1, 9)]\n",
      "\n",
      "\n"
     ]
    }
   ],
   "source": [
    "conn, cur = connect_to_db()\n",
    "\n",
    "symbols = ['AAPL', 'NVDA', 'SOUN', 'SMCI']\n",
    "\n",
    "for symbol in symbols:\n",
    "    stock = yf.Ticker(symbol)\n",
    "    stock_info = stock.history(period='max')\n",
    "\n",
    "    if stock_info.empty:\n",
    "        print(f\"No stock data available for {symbol}.\")\n",
    "        continue\n",
    "    \n",
    "    stock_info.index = stock_info.index.tz_localize(None)\n",
    "    first_date = stock_info.index.min()  \n",
    "    last_date = stock_info.index.max()\n",
    "      \n",
    "    analyze_missing_dates(symbol, first_date, last_date, conn, cur)\n",
    "\n",
    "cur.close()\n",
    "conn.close()"
   ]
  },
  {
   "cell_type": "code",
   "execution_count": null,
   "metadata": {},
   "outputs": [],
   "source": []
  }
 ],
 "metadata": {
  "kernelspec": {
   "display_name": "stock-env",
   "language": "python",
   "name": "python3"
  },
  "language_info": {
   "codemirror_mode": {
    "name": "ipython",
    "version": 3
   },
   "file_extension": ".py",
   "mimetype": "text/x-python",
   "name": "python",
   "nbconvert_exporter": "python",
   "pygments_lexer": "ipython3",
   "version": "3.12.3"
  }
 },
 "nbformat": 4,
 "nbformat_minor": 2
}
